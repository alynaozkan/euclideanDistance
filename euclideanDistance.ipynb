{
  "nbformat": 4,
  "nbformat_minor": 0,
  "metadata": {
    "colab": {
      "provenance": [],
      "authorship_tag": "ABX9TyNYbMnU9hKAH6ZZb5KWzxtH"
    },
    "kernelspec": {
      "name": "python3",
      "display_name": "Python 3"
    },
    "language_info": {
      "name": "python"
    }
  },
  "cells": [
    {
      "cell_type": "code",
      "execution_count": null,
      "metadata": {
        "colab": {
          "base_uri": "https://localhost:8080/"
        },
        "id": "yJ3AVHHUaQJc",
        "outputId": "e0c2676c-69bf-46ac-9bab-d8b479c49cc2"
      },
      "outputs": [
        {
          "output_type": "stream",
          "name": "stdout",
          "text": [
            "Minimum distance: 4.123105625617661\n",
            "[5.0, 8.94427190999916, 4.123105625617661]\n"
          ]
        }
      ],
      "source": [
        "import math\n",
        "\n",
        "points=[(3,4),(6,8),(7,12)]\n",
        "\n",
        "def euclideanDistance(dot1, dot2):\n",
        "    return math.sqrt((dot2[0] - dot1[0]) ** 2 + (dot2[1] - dot1[1]) ** 2)\n",
        "\n",
        "distances=[]\n",
        "for i in range(len(points)):\n",
        "  for j in range(i+1, len(points)):\n",
        "    distance= euclideanDistance(points[i], points[j])\n",
        "    distances.append(distance)\n",
        "\n",
        "min_distance = min(distances)\n",
        "print(\"Minimum distance:\", min_distance)\n",
        "#for details\n",
        "print(distances)"
      ]
    },
    {
      "cell_type": "code",
      "source": [],
      "metadata": {
        "id": "i0-ea-4ZjlBU"
      },
      "execution_count": null,
      "outputs": []
    }
  ]
}